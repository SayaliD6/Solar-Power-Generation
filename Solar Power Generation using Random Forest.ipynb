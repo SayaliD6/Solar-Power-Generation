{
 "cells": [
  {
   "cell_type": "code",
   "execution_count": 3,
   "metadata": {
    "id": "_fcPBjm8sARb"
   },
   "outputs": [],
   "source": [
    "import pandas as pd\n",
    "import numpy as np\n",
    "import seaborn as sns\n",
    "import matplotlib.pyplot as plt"
   ]
  },
  {
   "cell_type": "code",
   "execution_count": 4,
   "metadata": {
    "id": "ji_Qlw-ssbyd"
   },
   "outputs": [
    {
     "ename": "FileNotFoundError",
     "evalue": "[Errno 2] No such file or directory: '/content/solarpowergeneration.csv'",
     "output_type": "error",
     "traceback": [
      "\u001b[1;31m---------------------------------------------------------------------------\u001b[0m",
      "\u001b[1;31mFileNotFoundError\u001b[0m                         Traceback (most recent call last)",
      "Cell \u001b[1;32mIn[4], line 1\u001b[0m\n\u001b[1;32m----> 1\u001b[0m data \u001b[38;5;241m=\u001b[39m pd\u001b[38;5;241m.\u001b[39mread_csv(\u001b[38;5;124m\"\u001b[39m\u001b[38;5;124m/content/solarpowergeneration.csv\u001b[39m\u001b[38;5;124m\"\u001b[39m)\n",
      "File \u001b[1;32m~\\AppData\\Roaming\\Python\\Python311\\site-packages\\pandas\\util\\_decorators.py:211\u001b[0m, in \u001b[0;36mdeprecate_kwarg.<locals>._deprecate_kwarg.<locals>.wrapper\u001b[1;34m(*args, **kwargs)\u001b[0m\n\u001b[0;32m    209\u001b[0m     \u001b[38;5;28;01melse\u001b[39;00m:\n\u001b[0;32m    210\u001b[0m         kwargs[new_arg_name] \u001b[38;5;241m=\u001b[39m new_arg_value\n\u001b[1;32m--> 211\u001b[0m \u001b[38;5;28;01mreturn\u001b[39;00m func(\u001b[38;5;241m*\u001b[39margs, \u001b[38;5;241m*\u001b[39m\u001b[38;5;241m*\u001b[39mkwargs)\n",
      "File \u001b[1;32m~\\AppData\\Roaming\\Python\\Python311\\site-packages\\pandas\\util\\_decorators.py:331\u001b[0m, in \u001b[0;36mdeprecate_nonkeyword_arguments.<locals>.decorate.<locals>.wrapper\u001b[1;34m(*args, **kwargs)\u001b[0m\n\u001b[0;32m    325\u001b[0m \u001b[38;5;28;01mif\u001b[39;00m \u001b[38;5;28mlen\u001b[39m(args) \u001b[38;5;241m>\u001b[39m num_allow_args:\n\u001b[0;32m    326\u001b[0m     warnings\u001b[38;5;241m.\u001b[39mwarn(\n\u001b[0;32m    327\u001b[0m         msg\u001b[38;5;241m.\u001b[39mformat(arguments\u001b[38;5;241m=\u001b[39m_format_argument_list(allow_args)),\n\u001b[0;32m    328\u001b[0m         \u001b[38;5;167;01mFutureWarning\u001b[39;00m,\n\u001b[0;32m    329\u001b[0m         stacklevel\u001b[38;5;241m=\u001b[39mfind_stack_level(),\n\u001b[0;32m    330\u001b[0m     )\n\u001b[1;32m--> 331\u001b[0m \u001b[38;5;28;01mreturn\u001b[39;00m func(\u001b[38;5;241m*\u001b[39margs, \u001b[38;5;241m*\u001b[39m\u001b[38;5;241m*\u001b[39mkwargs)\n",
      "File \u001b[1;32m~\\AppData\\Roaming\\Python\\Python311\\site-packages\\pandas\\io\\parsers\\readers.py:950\u001b[0m, in \u001b[0;36mread_csv\u001b[1;34m(filepath_or_buffer, sep, delimiter, header, names, index_col, usecols, squeeze, prefix, mangle_dupe_cols, dtype, engine, converters, true_values, false_values, skipinitialspace, skiprows, skipfooter, nrows, na_values, keep_default_na, na_filter, verbose, skip_blank_lines, parse_dates, infer_datetime_format, keep_date_col, date_parser, dayfirst, cache_dates, iterator, chunksize, compression, thousands, decimal, lineterminator, quotechar, quoting, doublequote, escapechar, comment, encoding, encoding_errors, dialect, error_bad_lines, warn_bad_lines, on_bad_lines, delim_whitespace, low_memory, memory_map, float_precision, storage_options)\u001b[0m\n\u001b[0;32m    935\u001b[0m kwds_defaults \u001b[38;5;241m=\u001b[39m _refine_defaults_read(\n\u001b[0;32m    936\u001b[0m     dialect,\n\u001b[0;32m    937\u001b[0m     delimiter,\n\u001b[1;32m   (...)\u001b[0m\n\u001b[0;32m    946\u001b[0m     defaults\u001b[38;5;241m=\u001b[39m{\u001b[38;5;124m\"\u001b[39m\u001b[38;5;124mdelimiter\u001b[39m\u001b[38;5;124m\"\u001b[39m: \u001b[38;5;124m\"\u001b[39m\u001b[38;5;124m,\u001b[39m\u001b[38;5;124m\"\u001b[39m},\n\u001b[0;32m    947\u001b[0m )\n\u001b[0;32m    948\u001b[0m kwds\u001b[38;5;241m.\u001b[39mupdate(kwds_defaults)\n\u001b[1;32m--> 950\u001b[0m \u001b[38;5;28;01mreturn\u001b[39;00m _read(filepath_or_buffer, kwds)\n",
      "File \u001b[1;32m~\\AppData\\Roaming\\Python\\Python311\\site-packages\\pandas\\io\\parsers\\readers.py:605\u001b[0m, in \u001b[0;36m_read\u001b[1;34m(filepath_or_buffer, kwds)\u001b[0m\n\u001b[0;32m    602\u001b[0m _validate_names(kwds\u001b[38;5;241m.\u001b[39mget(\u001b[38;5;124m\"\u001b[39m\u001b[38;5;124mnames\u001b[39m\u001b[38;5;124m\"\u001b[39m, \u001b[38;5;28;01mNone\u001b[39;00m))\n\u001b[0;32m    604\u001b[0m \u001b[38;5;66;03m# Create the parser.\u001b[39;00m\n\u001b[1;32m--> 605\u001b[0m parser \u001b[38;5;241m=\u001b[39m TextFileReader(filepath_or_buffer, \u001b[38;5;241m*\u001b[39m\u001b[38;5;241m*\u001b[39mkwds)\n\u001b[0;32m    607\u001b[0m \u001b[38;5;28;01mif\u001b[39;00m chunksize \u001b[38;5;129;01mor\u001b[39;00m iterator:\n\u001b[0;32m    608\u001b[0m     \u001b[38;5;28;01mreturn\u001b[39;00m parser\n",
      "File \u001b[1;32m~\\AppData\\Roaming\\Python\\Python311\\site-packages\\pandas\\io\\parsers\\readers.py:1442\u001b[0m, in \u001b[0;36mTextFileReader.__init__\u001b[1;34m(self, f, engine, **kwds)\u001b[0m\n\u001b[0;32m   1439\u001b[0m     \u001b[38;5;28mself\u001b[39m\u001b[38;5;241m.\u001b[39moptions[\u001b[38;5;124m\"\u001b[39m\u001b[38;5;124mhas_index_names\u001b[39m\u001b[38;5;124m\"\u001b[39m] \u001b[38;5;241m=\u001b[39m kwds[\u001b[38;5;124m\"\u001b[39m\u001b[38;5;124mhas_index_names\u001b[39m\u001b[38;5;124m\"\u001b[39m]\n\u001b[0;32m   1441\u001b[0m \u001b[38;5;28mself\u001b[39m\u001b[38;5;241m.\u001b[39mhandles: IOHandles \u001b[38;5;241m|\u001b[39m \u001b[38;5;28;01mNone\u001b[39;00m \u001b[38;5;241m=\u001b[39m \u001b[38;5;28;01mNone\u001b[39;00m\n\u001b[1;32m-> 1442\u001b[0m \u001b[38;5;28mself\u001b[39m\u001b[38;5;241m.\u001b[39m_engine \u001b[38;5;241m=\u001b[39m \u001b[38;5;28mself\u001b[39m\u001b[38;5;241m.\u001b[39m_make_engine(f, \u001b[38;5;28mself\u001b[39m\u001b[38;5;241m.\u001b[39mengine)\n",
      "File \u001b[1;32m~\\AppData\\Roaming\\Python\\Python311\\site-packages\\pandas\\io\\parsers\\readers.py:1735\u001b[0m, in \u001b[0;36mTextFileReader._make_engine\u001b[1;34m(self, f, engine)\u001b[0m\n\u001b[0;32m   1733\u001b[0m     \u001b[38;5;28;01mif\u001b[39;00m \u001b[38;5;124m\"\u001b[39m\u001b[38;5;124mb\u001b[39m\u001b[38;5;124m\"\u001b[39m \u001b[38;5;129;01mnot\u001b[39;00m \u001b[38;5;129;01min\u001b[39;00m mode:\n\u001b[0;32m   1734\u001b[0m         mode \u001b[38;5;241m+\u001b[39m\u001b[38;5;241m=\u001b[39m \u001b[38;5;124m\"\u001b[39m\u001b[38;5;124mb\u001b[39m\u001b[38;5;124m\"\u001b[39m\n\u001b[1;32m-> 1735\u001b[0m \u001b[38;5;28mself\u001b[39m\u001b[38;5;241m.\u001b[39mhandles \u001b[38;5;241m=\u001b[39m get_handle(\n\u001b[0;32m   1736\u001b[0m     f,\n\u001b[0;32m   1737\u001b[0m     mode,\n\u001b[0;32m   1738\u001b[0m     encoding\u001b[38;5;241m=\u001b[39m\u001b[38;5;28mself\u001b[39m\u001b[38;5;241m.\u001b[39moptions\u001b[38;5;241m.\u001b[39mget(\u001b[38;5;124m\"\u001b[39m\u001b[38;5;124mencoding\u001b[39m\u001b[38;5;124m\"\u001b[39m, \u001b[38;5;28;01mNone\u001b[39;00m),\n\u001b[0;32m   1739\u001b[0m     compression\u001b[38;5;241m=\u001b[39m\u001b[38;5;28mself\u001b[39m\u001b[38;5;241m.\u001b[39moptions\u001b[38;5;241m.\u001b[39mget(\u001b[38;5;124m\"\u001b[39m\u001b[38;5;124mcompression\u001b[39m\u001b[38;5;124m\"\u001b[39m, \u001b[38;5;28;01mNone\u001b[39;00m),\n\u001b[0;32m   1740\u001b[0m     memory_map\u001b[38;5;241m=\u001b[39m\u001b[38;5;28mself\u001b[39m\u001b[38;5;241m.\u001b[39moptions\u001b[38;5;241m.\u001b[39mget(\u001b[38;5;124m\"\u001b[39m\u001b[38;5;124mmemory_map\u001b[39m\u001b[38;5;124m\"\u001b[39m, \u001b[38;5;28;01mFalse\u001b[39;00m),\n\u001b[0;32m   1741\u001b[0m     is_text\u001b[38;5;241m=\u001b[39mis_text,\n\u001b[0;32m   1742\u001b[0m     errors\u001b[38;5;241m=\u001b[39m\u001b[38;5;28mself\u001b[39m\u001b[38;5;241m.\u001b[39moptions\u001b[38;5;241m.\u001b[39mget(\u001b[38;5;124m\"\u001b[39m\u001b[38;5;124mencoding_errors\u001b[39m\u001b[38;5;124m\"\u001b[39m, \u001b[38;5;124m\"\u001b[39m\u001b[38;5;124mstrict\u001b[39m\u001b[38;5;124m\"\u001b[39m),\n\u001b[0;32m   1743\u001b[0m     storage_options\u001b[38;5;241m=\u001b[39m\u001b[38;5;28mself\u001b[39m\u001b[38;5;241m.\u001b[39moptions\u001b[38;5;241m.\u001b[39mget(\u001b[38;5;124m\"\u001b[39m\u001b[38;5;124mstorage_options\u001b[39m\u001b[38;5;124m\"\u001b[39m, \u001b[38;5;28;01mNone\u001b[39;00m),\n\u001b[0;32m   1744\u001b[0m )\n\u001b[0;32m   1745\u001b[0m \u001b[38;5;28;01massert\u001b[39;00m \u001b[38;5;28mself\u001b[39m\u001b[38;5;241m.\u001b[39mhandles \u001b[38;5;129;01mis\u001b[39;00m \u001b[38;5;129;01mnot\u001b[39;00m \u001b[38;5;28;01mNone\u001b[39;00m\n\u001b[0;32m   1746\u001b[0m f \u001b[38;5;241m=\u001b[39m \u001b[38;5;28mself\u001b[39m\u001b[38;5;241m.\u001b[39mhandles\u001b[38;5;241m.\u001b[39mhandle\n",
      "File \u001b[1;32m~\\AppData\\Roaming\\Python\\Python311\\site-packages\\pandas\\io\\common.py:856\u001b[0m, in \u001b[0;36mget_handle\u001b[1;34m(path_or_buf, mode, encoding, compression, memory_map, is_text, errors, storage_options)\u001b[0m\n\u001b[0;32m    851\u001b[0m \u001b[38;5;28;01melif\u001b[39;00m \u001b[38;5;28misinstance\u001b[39m(handle, \u001b[38;5;28mstr\u001b[39m):\n\u001b[0;32m    852\u001b[0m     \u001b[38;5;66;03m# Check whether the filename is to be opened in binary mode.\u001b[39;00m\n\u001b[0;32m    853\u001b[0m     \u001b[38;5;66;03m# Binary mode does not support 'encoding' and 'newline'.\u001b[39;00m\n\u001b[0;32m    854\u001b[0m     \u001b[38;5;28;01mif\u001b[39;00m ioargs\u001b[38;5;241m.\u001b[39mencoding \u001b[38;5;129;01mand\u001b[39;00m \u001b[38;5;124m\"\u001b[39m\u001b[38;5;124mb\u001b[39m\u001b[38;5;124m\"\u001b[39m \u001b[38;5;129;01mnot\u001b[39;00m \u001b[38;5;129;01min\u001b[39;00m ioargs\u001b[38;5;241m.\u001b[39mmode:\n\u001b[0;32m    855\u001b[0m         \u001b[38;5;66;03m# Encoding\u001b[39;00m\n\u001b[1;32m--> 856\u001b[0m         handle \u001b[38;5;241m=\u001b[39m \u001b[38;5;28mopen\u001b[39m(\n\u001b[0;32m    857\u001b[0m             handle,\n\u001b[0;32m    858\u001b[0m             ioargs\u001b[38;5;241m.\u001b[39mmode,\n\u001b[0;32m    859\u001b[0m             encoding\u001b[38;5;241m=\u001b[39mioargs\u001b[38;5;241m.\u001b[39mencoding,\n\u001b[0;32m    860\u001b[0m             errors\u001b[38;5;241m=\u001b[39merrors,\n\u001b[0;32m    861\u001b[0m             newline\u001b[38;5;241m=\u001b[39m\u001b[38;5;124m\"\u001b[39m\u001b[38;5;124m\"\u001b[39m,\n\u001b[0;32m    862\u001b[0m         )\n\u001b[0;32m    863\u001b[0m     \u001b[38;5;28;01melse\u001b[39;00m:\n\u001b[0;32m    864\u001b[0m         \u001b[38;5;66;03m# Binary mode\u001b[39;00m\n\u001b[0;32m    865\u001b[0m         handle \u001b[38;5;241m=\u001b[39m \u001b[38;5;28mopen\u001b[39m(handle, ioargs\u001b[38;5;241m.\u001b[39mmode)\n",
      "\u001b[1;31mFileNotFoundError\u001b[0m: [Errno 2] No such file or directory: '/content/solarpowergeneration.csv'"
     ]
    }
   ],
   "source": [
    "data = pd.read_csv(\"/content/solarpowergeneration.csv\")"
   ]
  },
  {
   "cell_type": "code",
   "execution_count": null,
   "metadata": {
    "colab": {
     "base_uri": "https://localhost:8080/",
     "height": 458
    },
    "id": "80KozGsRscSe",
    "outputId": "5475c760-ac08-4905-eef6-7980a8c6dd0e"
   },
   "outputs": [],
   "source": [
    "data"
   ]
  },
  {
   "cell_type": "code",
   "execution_count": null,
   "metadata": {
    "colab": {
     "base_uri": "https://localhost:8080/"
    },
    "id": "i2UDR1BDsd5J",
    "outputId": "66b81181-1d2a-4c93-d25c-b84b8f981e11"
   },
   "outputs": [],
   "source": [
    "data.shape"
   ]
  },
  {
   "cell_type": "code",
   "execution_count": null,
   "metadata": {
    "colab": {
     "base_uri": "https://localhost:8080/"
    },
    "id": "phQDHVOTshhg",
    "outputId": "3e175878-4b4e-4852-da6d-daeebad46b2b"
   },
   "outputs": [],
   "source": [
    "data.info()"
   ]
  },
  {
   "cell_type": "markdown",
   "metadata": {
    "id": "_7jzx2VVzSqz"
   },
   "source": [
    "# **Univariate Analysis**"
   ]
  },
  {
   "cell_type": "code",
   "execution_count": null,
   "metadata": {
    "colab": {
     "base_uri": "https://localhost:8080/",
     "height": 1000
    },
    "id": "sB3Jrwo7szGe",
    "outputId": "ca615206-ff8a-4b3b-ae27-2317c66f0311"
   },
   "outputs": [],
   "source": [
    "def univariate_analysis(data, column):\n",
    "\n",
    "    print(f\"Univariate Analysis for {column}:\")\n",
    "    print(\"-\" * 30)\n",
    "\n",
    "    # Descriptive statistics\n",
    "    print(\"Descriptive Statistics:\")\n",
    "    print(data[column].describe())\n",
    "\n",
    "    # Histogram\n",
    "    plt.figure()\n",
    "    plt.hist(data[column], bins=20)\n",
    "    plt.xlabel(column)\n",
    "    plt.ylabel(\"Frequency\")\n",
    "    plt.title(f\"Histogram of {column}\")\n",
    "    plt.show()\n",
    "\n",
    "    # Kernel Density Estimation (KDE) plot\n",
    "    plt.figure()\n",
    "    sns.kdeplot(data[column])\n",
    "    plt.xlabel(column)\n",
    "    plt.ylabel(\"Density\")\n",
    "    plt.title(f\"KDE Plot of {column}\")\n",
    "    plt.show()\n",
    "\n",
    "    # Skewness\n",
    "    print(f\"Skewness: {data[column].skew()}\")\n",
    "\n",
    "    # Box plot\n",
    "    plt.figure()\n",
    "    sns.boxplot(data[column])\n",
    "    plt.xlabel(column)\n",
    "    plt.title(f\"Box Plot of {column}\")\n",
    "    plt.show()\n",
    "\n",
    "    print(\"\\n\")\n",
    "\n",
    "\n",
    "for column in data.columns:\n",
    "    univariate_analysis(data, column)"
   ]
  },
  {
   "cell_type": "code",
   "execution_count": null,
   "metadata": {
    "colab": {
     "base_uri": "https://localhost:8080/",
     "height": 397
    },
    "id": "bjzPl4caGUZw",
    "outputId": "e262b541-6efa-47b7-e83d-0cc0cd5d0466"
   },
   "outputs": [],
   "source": [
    "data.kurtosis()"
   ]
  },
  {
   "cell_type": "code",
   "execution_count": null,
   "metadata": {
    "colab": {
     "base_uri": "https://localhost:8080/",
     "height": 428
    },
    "id": "w6Ma3Hpu0hXJ",
    "outputId": "c881e6e7-2c71-4963-ce6f-c9e555475e13"
   },
   "outputs": [],
   "source": [
    "import matplotlib.pyplot as plt\n",
    "plt.pie(data['sky-cover'].value_counts(), labels=data['sky-cover'].value_counts().index, autopct='%1.1f%%')\n",
    "plt.title('Pie Chart of Sky Cover Distribution')\n",
    "plt.show()\n"
   ]
  },
  {
   "cell_type": "markdown",
   "metadata": {
    "id": "2L2wEkcvt3uf"
   },
   "source": [
    "**As we can see thier is skewness in some of the features**\n",
    "\n",
    "we will perform transformation techniques to alter skewness"
   ]
  },
  {
   "cell_type": "markdown",
   "metadata": {
    "id": "IuL7upIT7cLG"
   },
   "source": [
    "#**Treating the missing value**"
   ]
  },
  {
   "cell_type": "code",
   "execution_count": null,
   "metadata": {
    "id": "1iiRPjNc7bvv"
   },
   "outputs": [],
   "source": [
    "from sklearn.impute import SimpleImputer\n",
    "\n",
    "imputer = SimpleImputer(strategy='median')\n",
    "data[\"average-wind-speed-(period)\"] = imputer.fit_transform(data[[\"average-wind-speed-(period)\"]])\n",
    "\n",
    "data = pd.DataFrame(data)"
   ]
  },
  {
   "cell_type": "code",
   "execution_count": null,
   "metadata": {
    "colab": {
     "base_uri": "https://localhost:8080/",
     "height": 397
    },
    "id": "xsR9_d7o7x4l",
    "outputId": "c3c977a4-b713-4937-ff65-7007856e5b54"
   },
   "outputs": [],
   "source": [
    "data.isnull().sum()"
   ]
  },
  {
   "cell_type": "markdown",
   "metadata": {
    "id": "NJKXpYpg2y9Y"
   },
   "source": [
    "# **Bivariate Analysis of features before log transformation**"
   ]
  },
  {
   "cell_type": "code",
   "execution_count": null,
   "metadata": {
    "colab": {
     "base_uri": "https://localhost:8080/",
     "height": 1000
    },
    "id": "8wdtGVev2yVX",
    "outputId": "08659ee4-b258-4d29-8f57-d206fe74be33"
   },
   "outputs": [],
   "source": [
    "def bivariate_analysis(data, column, target_column, hue_column):\n",
    "\n",
    "    print(f\"Bivariate Analysis of {column} with {target_column}, hue={hue_column}\")\n",
    "    print(\"-\" * 50)\n",
    "\n",
    "    # Scatter plot with hue\n",
    "    plt.figure()\n",
    "    sns.scatterplot(data=data, x=column, y=target_column, hue=hue_column)\n",
    "    plt.xlabel(column)\n",
    "    plt.ylabel(target_column)\n",
    "    plt.title(f\"Scatter Plot of {column} vs. {target_column} (Hue: {hue_column})\")\n",
    "    plt.show()\n",
    "\n",
    "    # Correlation coefficient\n",
    "    correlation = data[column].corr(data[target_column])\n",
    "    print(f\"Correlation Coefficient: {correlation}\")\n",
    "\n",
    "    print(\"\\n\")\n",
    "\n",
    "# Example usage with 'sky-cover' as hue\n",
    "for column in data.columns:\n",
    "     if column not in ['power-generated', 'sky-cover']:\n",
    "         bivariate_analysis(data, column, 'power-generated', 'sky-cover')"
   ]
  },
  {
   "cell_type": "code",
   "execution_count": null,
   "metadata": {
    "colab": {
     "base_uri": "https://localhost:8080/",
     "height": 564
    },
    "id": "-q8vD4aQ4JB0",
    "outputId": "4f74b6d0-ea12-4218-c6f8-ccd23bfa0f85"
   },
   "outputs": [],
   "source": [
    "#scatter plot bettween sky-cover and power-generated\n",
    "\n",
    "plt.figure(figsize=(10, 6))\n",
    "sns.scatterplot(data=data, x=\"sky-cover\", y=\"power-generated\", hue=\"power-generated\")\n",
    "plt.xlabel(\"Sky Cover\")\n",
    "plt.ylabel(\"Power Generated\")\n",
    "plt.title(\"scatter plot of Sky Cover vs. Power Generated\")\n",
    "plt.show()"
   ]
  },
  {
   "cell_type": "markdown",
   "metadata": {
    "id": "dDddS7-77MMI"
   },
   "source": [
    "**KDE plot of sky cover and power generated before log transformation**"
   ]
  },
  {
   "cell_type": "code",
   "execution_count": null,
   "metadata": {
    "colab": {
     "base_uri": "https://localhost:8080/",
     "height": 564
    },
    "id": "DlYNueHW67g5",
    "outputId": "cb3f27a5-55a5-4924-a095-458b09bbdfac"
   },
   "outputs": [],
   "source": [
    "plt.figure(figsize=(10, 6))\n",
    "for sky_cover in [1, 2, 3, 4]:\n",
    "\n",
    "    subset = data[data[\"sky-cover\"] == sky_cover][\"power-generated\"]\n",
    "    sns.kdeplot(subset, label=f\"Sky Cover {sky_cover}\")\n",
    "\n",
    "plt.xlabel(\"Power Generated\")\n",
    "plt.ylabel(\"Density\")\n",
    "plt.title(\"KDE Plot of Power Generated for Different Sky Cover Categories\")\n",
    "plt.legend()\n",
    "plt.show()"
   ]
  },
  {
   "cell_type": "markdown",
   "metadata": {
    "id": "zsxhzwYX9E0U"
   },
   "source": [
    "#**Corr matrix and heatmap before log transformation**"
   ]
  },
  {
   "cell_type": "code",
   "execution_count": null,
   "metadata": {
    "colab": {
     "base_uri": "https://localhost:8080/",
     "height": 484
    },
    "id": "CzUzki7B9Drb",
    "outputId": "2997b827-0876-4547-b907-2ae59521379b"
   },
   "outputs": [],
   "source": [
    "data.corr()"
   ]
  },
  {
   "cell_type": "code",
   "execution_count": null,
   "metadata": {
    "colab": {
     "base_uri": "https://localhost:8080/",
     "height": 869
    },
    "id": "eJ7bkYNq9R9q",
    "outputId": "b8fb1534-d5d9-48d1-f921-b23ee0ebba54"
   },
   "outputs": [],
   "source": [
    "plt.figure(figsize=(10, 8))\n",
    "sns.heatmap(data.corr(), annot = True , cmap = \"coolwarm\")\n",
    "plt.show()"
   ]
  },
  {
   "cell_type": "markdown",
   "metadata": {
    "id": "PNKIz3ab95Mz"
   },
   "source": [
    "# **Boxplot and outliers detection before log transformation to check outliers**"
   ]
  },
  {
   "cell_type": "code",
   "execution_count": null,
   "metadata": {
    "colab": {
     "base_uri": "https://localhost:8080/",
     "height": 447
    },
    "id": "RSBvFFv1-KuM",
    "outputId": "00f019ef-7582-4913-d7bc-925d56cf773a"
   },
   "outputs": [],
   "source": [
    "sns.boxplot(data, orient = \"h\")"
   ]
  },
  {
   "cell_type": "code",
   "execution_count": null,
   "metadata": {
    "colab": {
     "base_uri": "https://localhost:8080/"
    },
    "id": "XWDdiYzRjLaU",
    "outputId": "0d81fb8c-7cc1-4238-8e11-62237f019e73"
   },
   "outputs": [],
   "source": [
    "Q1 = data.quantile(0.25)\n",
    "Q3 = data.quantile(0.75)\n",
    "IQR = Q3 - Q1\n",
    "\n",
    "outliers = ((data < (Q1 - 1.5 * IQR)) | (data > (Q3 + 1.5 * IQR))).sum()\n",
    "\n",
    "print(outliers)"
   ]
  },
  {
   "cell_type": "markdown",
   "metadata": {
    "id": "ZK_OIXiH6BJ8"
   },
   "source": [
    "# **Log Transformation**"
   ]
  },
  {
   "cell_type": "code",
   "execution_count": null,
   "metadata": {
    "colab": {
     "base_uri": "https://localhost:8080/"
    },
    "id": "MNqqJbq7tdfW",
    "outputId": "ce8bca5a-f559-4df9-83db-1d2c01f4dd52"
   },
   "outputs": [],
   "source": [
    "# Apply log transformation\n",
    "data['log_power_generated'] = np.log(data['power-generated'] + 1)\n",
    "\n",
    "# Check the distribution of the transformed column\n",
    "print(data['log_power_generated'].skew())"
   ]
  },
  {
   "cell_type": "code",
   "execution_count": null,
   "metadata": {
    "id": "qEt7xA1_zIu1"
   },
   "outputs": [],
   "source": [
    "data = data.drop(\"power-generated\", axis=1)"
   ]
  },
  {
   "cell_type": "code",
   "execution_count": null,
   "metadata": {
    "colab": {
     "base_uri": "https://localhost:8080/",
     "height": 397
    },
    "id": "f63AH0rMwIIL",
    "outputId": "51272610-0639-4f5b-889c-c0bd216237b6"
   },
   "outputs": [],
   "source": [
    "data.skew()"
   ]
  },
  {
   "cell_type": "markdown",
   "metadata": {
    "id": "B9K9v7gB1y6-"
   },
   "source": [
    "# **Bivariate Analysis of features after log transformation**"
   ]
  },
  {
   "cell_type": "code",
   "execution_count": null,
   "metadata": {
    "colab": {
     "base_uri": "https://localhost:8080/",
     "height": 1000
    },
    "id": "DZrYFDl62Hsk",
    "outputId": "c3df063d-6385-4838-ad35-c39a894fc0f7"
   },
   "outputs": [],
   "source": [
    "def bivariate_analysis(data, column, target_column, hue_column):\n",
    "\n",
    "    print(f\"Bivariate Analysis of {column} with {target_column}, hue={hue_column}\")\n",
    "    print(\"-\" * 50)\n",
    "\n",
    "    # Scatter plot with hue\n",
    "    plt.figure()\n",
    "    sns.scatterplot(data=data, x=column, y=target_column, hue=hue_column)\n",
    "    plt.xlabel(column)\n",
    "    plt.ylabel(target_column)\n",
    "    plt.title(f\"Scatter Plot of {column} vs. {target_column} (Hue: {hue_column})\")\n",
    "    plt.show()\n",
    "\n",
    "    # Correlation coefficient\n",
    "    correlation = data[column].corr(data[target_column])\n",
    "    print(f\"Correlation Coefficient: {correlation}\")\n",
    "\n",
    "    print(\"\\n\")\n",
    "\n",
    "# Example usage with 'sky-cover' as hue\n",
    "for column in data.columns:\n",
    "    if column not in ['log_power_generated', 'sky-cover']:\n",
    "        bivariate_analysis(data, column, 'log_power_generated', 'sky-cover')"
   ]
  },
  {
   "cell_type": "code",
   "execution_count": null,
   "metadata": {
    "colab": {
     "base_uri": "https://localhost:8080/",
     "height": 564
    },
    "id": "F-uzqQ9o2bmd",
    "outputId": "48e4ab62-d86a-4daf-ccba-87a6b8145bd3"
   },
   "outputs": [],
   "source": [
    "#scatter plot bettween sky-cover and power-generated\n",
    "\n",
    "plt.figure(figsize=(10, 6))\n",
    "sns.scatterplot(data=data, x=\"sky-cover\", y=\"log_power_generated\", hue=\"log_power_generated\")\n",
    "plt.xlabel(\"Sky Cover\")\n",
    "plt.ylabel(\"Power Generated\")\n",
    "plt.title(\"scatter plot of Sky Cover vs. Power Generated\")\n",
    "plt.show()"
   ]
  },
  {
   "cell_type": "code",
   "execution_count": null,
   "metadata": {
    "colab": {
     "base_uri": "https://localhost:8080/",
     "height": 564
    },
    "id": "KEciBdfd4EuU",
    "outputId": "87b86cb1-e128-42b1-9224-f6dfd4f73c48"
   },
   "outputs": [],
   "source": [
    "plt.figure(figsize=(10, 6))\n",
    "for sky_cover in [1, 2, 3, 4]:\n",
    "\n",
    "    subset = data[data[\"sky-cover\"] == sky_cover][\"log_power_generated\"]\n",
    "    sns.kdeplot(subset, label=f\"Sky Cover {sky_cover}\")\n",
    "\n",
    "plt.xlabel(\"log Power Generated\")\n",
    "plt.ylabel(\"Density\")\n",
    "plt.title(\"KDE Plot of Power Generated for Different Sky Cover Categories\")\n",
    "plt.legend()\n",
    "plt.show()"
   ]
  },
  {
   "cell_type": "markdown",
   "metadata": {
    "id": "y0YMLpWz9gfX"
   },
   "source": [
    "#**Corr matrix and heatmap after log transformation**"
   ]
  },
  {
   "cell_type": "code",
   "execution_count": null,
   "metadata": {
    "colab": {
     "base_uri": "https://localhost:8080/",
     "height": 467
    },
    "id": "kouSFvZZ6pGq",
    "outputId": "ef6ed249-4fde-4e2e-b2de-205e0dff1978"
   },
   "outputs": [],
   "source": [
    "data.corr()"
   ]
  },
  {
   "cell_type": "code",
   "execution_count": null,
   "metadata": {
    "colab": {
     "base_uri": "https://localhost:8080/",
     "height": 715
    },
    "id": "VLA2F9G69j94",
    "outputId": "b35d7cec-7728-4883-880f-64876ab31d73"
   },
   "outputs": [],
   "source": [
    "plt.figure(figsize=(8, 6))\n",
    "sns.heatmap(data.corr(), annot = True , cmap = \"coolwarm\")\n",
    "plt.show()"
   ]
  },
  {
   "cell_type": "markdown",
   "metadata": {
    "id": "x7-KnbZl-clB"
   },
   "source": [
    "# **Boxplot and outliers detection after log transformation to check outliers**"
   ]
  },
  {
   "cell_type": "code",
   "execution_count": null,
   "metadata": {
    "colab": {
     "base_uri": "https://localhost:8080/",
     "height": 447
    },
    "id": "CtwBEX1D9nxy",
    "outputId": "a0153f9c-3a0f-4ca3-dd28-ee6a5f131399"
   },
   "outputs": [],
   "source": [
    "sns.boxplot(data, orient=\"h\")"
   ]
  },
  {
   "cell_type": "code",
   "execution_count": null,
   "metadata": {
    "colab": {
     "base_uri": "https://localhost:8080/"
    },
    "id": "qvSXqK6n-kNW",
    "outputId": "1ae04d00-b9d6-4621-ce66-75035f107d99"
   },
   "outputs": [],
   "source": [
    "Q1 = data.quantile(0.25)\n",
    "Q3 = data.quantile(0.75)\n",
    "IQR = Q3 - Q1\n",
    "\n",
    "outliers = ((data < (Q1 - 1.5 * IQR)) | (data > (Q3 + 1.5 * IQR))).sum()\n",
    "\n",
    "print(outliers)"
   ]
  },
  {
   "cell_type": "markdown",
   "metadata": {
    "id": "m5t-3LBz-5Xa"
   },
   "source": [
    "# **Z-score**\n",
    "lets find the z-score of each feature that have outliers, to know whether we need to remove outliers or not.\n",
    "\n",
    "**Conclusion**\n",
    "\n",
    "*   Generally the thresholds for outliers is between -2 and 2.\n",
    "*   In our dataset outliers present in our features lies between the range of thresholds, so we do not need to transform or remove the outliers."
   ]
  },
  {
   "cell_type": "code",
   "execution_count": null,
   "metadata": {
    "colab": {
     "base_uri": "https://localhost:8080/"
    },
    "id": "rpjo9ULF-qwY",
    "outputId": "90e91c81-9acb-4ac0-b8d7-85d56186d1e0"
   },
   "outputs": [],
   "source": [
    "#wind-direction\n",
    "x = data['wind-direction'][0]\n",
    "mean = data['wind-direction'].mean()\n",
    "std = data['wind-direction'].std()\n",
    "\n",
    "z = (x - mean) / std\n",
    "print(z)\n",
    "\n",
    "#wind-speed\n",
    "x = data['wind-speed'][0]\n",
    "mean = data['wind-speed'].mean()\n",
    "std = data['wind-speed'].std()\n",
    "\n",
    "z = (x - mean) / std\n",
    "print(z)\n",
    "\n",
    "#visibility\n",
    "x = data['visibility'][0]\n",
    "mean = data['visibility'].mean()\n",
    "std = data['visibility'].std()\n",
    "\n",
    "z = (x - mean) / std\n",
    "print(z)\n",
    "\n",
    "#humidity\n",
    "x = data['humidity'][0]\n",
    "mean = data['humidity'].mean()\n",
    "std = data['humidity'].std()\n",
    "\n",
    "z = (x - mean) / std\n",
    "print(z)\n",
    "\n",
    "#average-wind-speed-(period)\n",
    "x = data['average-wind-speed-(period)'][0]\n",
    "mean = data['average-wind-speed-(period)'].mean()\n",
    "std = data['average-wind-speed-(period)'].std()\n",
    "\n",
    "z = (x - mean) / std\n",
    "print(z)\n",
    "\n",
    "#average-pressure-(period)\n",
    "x = data['average-pressure-(period)'][0]\n",
    "mean = data['average-pressure-(period)'].mean()\n",
    "std = data['average-pressure-(period)'].std()\n",
    "\n",
    "z = (x - mean) / std\n",
    "print(z)\n",
    "\n",
    "#log-power-generated\n",
    "x = data['log_power_generated'][0]\n",
    "mean = data['log_power_generated'].mean()\n",
    "std = data['log_power_generated'].std()\n",
    "\n",
    "z = (x - mean) / std\n",
    "print(z)"
   ]
  },
  {
   "cell_type": "code",
   "execution_count": null,
   "metadata": {
    "colab": {
     "base_uri": "https://localhost:8080/"
    },
    "id": "pw0rjQ2yHsJa",
    "outputId": "8439f42d-dd4f-4d4e-d39a-d5e9a7fc643f"
   },
   "outputs": [],
   "source": [
    "from statsmodels.stats.outliers_influence import variance_inflation_factor\n",
    "\n",
    "def calculate_vif(data_clean):\n",
    "    vif_data_clean = pd.DataFrame()\n",
    "    vif_data_clean[\"feature\"] = data.columns\n",
    "    vif_data_clean[\"VIF\"] = [variance_inflation_factor(data.values, i) for i in range(len(data.columns))]\n",
    "    return vif_data_clean\n",
    "\n",
    "# Assuming 'x' is your DataFrame with independent variables\n",
    "vif_df = calculate_vif(data)\n",
    "print(vif_df)"
   ]
  },
  {
   "cell_type": "code",
   "execution_count": null,
   "metadata": {
    "colab": {
     "base_uri": "https://localhost:8080/"
    },
    "id": "XA2PHv6WHDgr",
    "outputId": "5bbef85c-95cb-4663-d157-2b586c2ddd70"
   },
   "outputs": [],
   "source": [
    "# prompt: write code to drop outliers from each column exclude sky-cover column\n",
    "\n",
    "Q1 = data.quantile(0.25)\n",
    "Q3 = data.quantile(0.75)\n",
    "IQR = Q3 - Q1\n",
    "\n",
    "# Identify outliers\n",
    "outliers = ((data < (Q1 - 1.5 * IQR)) | (data > (Q3 + 1.5 * IQR)))\n",
    "\n",
    "# Drop outliers from all columns except 'sky-cover'\n",
    "for column in data.columns:\n",
    "    if column != 'sky-cover':\n",
    "        data = data[~outliers[column]]\n",
    "\n",
    "# Reset the index after dropping rows\n",
    "data = data.reset_index(drop=True)\n",
    "\n"
   ]
  },
  {
   "cell_type": "code",
   "execution_count": null,
   "metadata": {
    "colab": {
     "base_uri": "https://localhost:8080/",
     "height": 447
    },
    "id": "JqilChqCHDTp",
    "outputId": "efecb655-91bd-4405-84c8-a4e8cbdb4e9a"
   },
   "outputs": [],
   "source": [
    "sns.boxplot(data, orient=\"h\")"
   ]
  },
  {
   "cell_type": "code",
   "execution_count": null,
   "metadata": {
    "colab": {
     "base_uri": "https://localhost:8080/"
    },
    "id": "VhK3zfODHbIR",
    "outputId": "36c0e426-52da-4dd2-add3-088226dda152"
   },
   "outputs": [],
   "source": [
    "Q1 = data.quantile(0.25)\n",
    "Q3 = data.quantile(0.75)\n",
    "IQR = Q3 - Q1\n",
    "\n",
    "outliers = ((data < (Q1 - 1.5 * IQR)) | (data > (Q3 + 1.5 * IQR))).sum()\n",
    "\n",
    "print(outliers)"
   ]
  },
  {
   "cell_type": "code",
   "execution_count": null,
   "metadata": {
    "colab": {
     "base_uri": "https://localhost:8080/"
    },
    "id": "zWpb2QYDHa5Y",
    "outputId": "d27dd72b-81bd-494b-968b-cde4c1887b54"
   },
   "outputs": [],
   "source": [
    "from statsmodels.stats.outliers_influence import variance_inflation_factor\n",
    "\n",
    "def calculate_vif(data_clean):\n",
    "    vif_data_clean = pd.DataFrame()\n",
    "    vif_data_clean[\"feature\"] = data.columns\n",
    "    vif_data_clean[\"VIF\"] = [variance_inflation_factor(data.values, i) for i in range(len(data.columns))]\n",
    "    return vif_data_clean\n",
    "\n",
    "# Assuming 'x' is your DataFrame with independent variables\n",
    "vif_df = calculate_vif(data)\n",
    "print(vif_df)"
   ]
  },
  {
   "cell_type": "code",
   "execution_count": null,
   "metadata": {
    "id": "mWjGq0fUIlo2"
   },
   "outputs": [],
   "source": [
    "data = data.drop(\"visibility\", axis=1)"
   ]
  },
  {
   "cell_type": "markdown",
   "metadata": {
    "id": "--5xHxRA_HzG"
   },
   "source": [
    "# **One Hot Encoding to covert categorical column(sky-cover) into numerical column**"
   ]
  },
  {
   "cell_type": "code",
   "execution_count": null,
   "metadata": {
    "id": "SRInmZN8_AB0"
   },
   "outputs": [],
   "source": [
    "from sklearn.preprocessing import OneHotEncoder\n",
    "ohe = OneHotEncoder()\n",
    "\n",
    "data_encoded = ohe.fit_transform(data[[\"sky-cover\"]])\n",
    "\n",
    "\n",
    "data_encoded_df = pd.DataFrame(data_encoded.toarray(), columns=ohe.get_feature_names_out([\"sky-cover\"]))\n",
    "\n",
    "data = data.join(data_encoded_df)\n",
    "data = data.drop(\"sky-cover\", axis=1)"
   ]
  },
  {
   "cell_type": "markdown",
   "metadata": {
    "id": "ZpLxedOs_rz6"
   },
   "source": [
    "# **Standardization to normalize the whole dataset**"
   ]
  },
  {
   "cell_type": "code",
   "execution_count": null,
   "metadata": {
    "id": "8FPA-n0s_Vb8"
   },
   "outputs": [],
   "source": [
    "from sklearn.preprocessing import StandardScaler\n",
    "numerical_cols = [\"distance-to-solar-noon\", \"temperature\", \"wind-direction\",\n",
    "                  \"wind-speed\", \"humidity\",\n",
    "                  \"average-wind-speed-(period)\", \"average-pressure-(period)\",\n",
    "                  \"log_power_generated\"]\n",
    "\n",
    "scaler = StandardScaler()\n",
    "\n",
    "data[numerical_cols] = scaler.fit_transform(data[numerical_cols])\n"
   ]
  },
  {
   "cell_type": "code",
   "execution_count": null,
   "metadata": {
    "colab": {
     "base_uri": "https://localhost:8080/",
     "height": 495
    },
    "id": "js410rBU_4ge",
    "outputId": "03b2b21a-5773-4801-d0ce-228a8d3237ba"
   },
   "outputs": [],
   "source": [
    "data"
   ]
  },
  {
   "cell_type": "code",
   "execution_count": null,
   "metadata": {
    "id": "Rv6xUSPS_5cK"
   },
   "outputs": [],
   "source": [
    "x = data.drop(columns=[\"log_power_generated\"])\n",
    "y = data[\"log_power_generated\"]"
   ]
  },
  {
   "cell_type": "code",
   "execution_count": null,
   "metadata": {
    "id": "ZkBs_GVvS6Hi"
   },
   "outputs": [],
   "source": [
    "from sklearn.model_selection import train_test_split\n",
    "x_train, x_test, y_train, y_test = train_test_split(x, y, test_size=0.2, random_state=42)"
   ]
  },
  {
   "cell_type": "markdown",
   "metadata": {
    "id": "jJFWAJGrhplr"
   },
   "source": [
    "# **Random Forest**"
   ]
  },
  {
   "cell_type": "code",
   "execution_count": null,
   "metadata": {
    "colab": {
     "base_uri": "https://localhost:8080/",
     "height": 653
    },
    "id": "nz8K5TCLgpWy",
    "outputId": "249a340b-bdba-4e1d-fd1b-3be5605dc81b"
   },
   "outputs": [],
   "source": [
    "from sklearn.ensemble import RandomForestRegressor\n",
    "from sklearn.tree import plot_tree\n",
    "import matplotlib.pyplot as plt\n",
    "\n",
    "# Create a Random Forest Regressor\n",
    "rf_model = RandomForestRegressor(n_estimators=100, random_state=42)  # Example with 100 trees\n",
    "\n",
    "# Fit the model to the training data\n",
    "rf_model.fit(x_train, y_train)\n",
    "\n",
    "# Make predictions on the test data (optional)\n",
    "# y_pred = rf_model.predict(x_test)\n",
    "\n",
    "# Get the first tree from the forest\n",
    "tree = rf_model.estimators_[0]\n",
    "\n",
    "# Plot the tree\n",
    "plt.figure(figsize=(12, 8))\n",
    "plot_tree(tree, feature_names=x_train.columns, filled=True, rounded=True)\n",
    "plt.show()"
   ]
  },
  {
   "cell_type": "code",
   "execution_count": null,
   "metadata": {
    "colab": {
     "base_uri": "https://localhost:8080/"
    },
    "id": "vD8cd9nhjOSX",
    "outputId": "2df29bac-58d9-44fd-a5bc-810c30c7d376"
   },
   "outputs": [],
   "source": [
    "from sklearn.ensemble import RandomForestRegressor\n",
    "from sklearn.metrics import mean_squared_error, mean_absolute_error, r2_score\n",
    "\n",
    "# Create a Random Forest Regressor\n",
    "rf_model = RandomForestRegressor(n_estimators=100, random_state=42)\n",
    "\n",
    "# Fit the model to the training data\n",
    "rf_model.fit(x_train, y_train)\n",
    "\n",
    "# Make predictions on the test data\n",
    "y_pred = rf_model.predict(x_test)\n",
    "\n",
    "# Evaluate the model\n",
    "rmse = mean_squared_error(y_test, y_pred, squared=False)\n",
    "print(\"RMSE:\", rmse)\n",
    "\n",
    "mae = mean_absolute_error(y_test, y_pred)\n",
    "print(\"MAE:\", mae)\n",
    "\n",
    "r2 = r2_score(y_test, y_pred)\n",
    "print(\"R-squared:\", r2)"
   ]
  },
  {
   "cell_type": "code",
   "execution_count": null,
   "metadata": {
    "id": "qqgyNcqJagsV"
   },
   "outputs": [],
   "source": [
    "# write code for hyperparametertuning of the above done model\n",
    "\n",
    "from sklearn.model_selection import GridSearchCV\n",
    "\n",
    "# Define the parameter grid\n",
    "param_grid = {\n",
    "    'n_estimators': [100, 200, 300],\n",
    "    'max_depth': [None, 5, 10],\n",
    "    'min_samples_split': [2, 5, 10],\n",
    "    'min_samples_leaf': [1, 2, 4]\n",
    "}\n",
    "\n"
   ]
  },
  {
   "cell_type": "code",
   "execution_count": null,
   "metadata": {
    "id": "BhHGRwSkan0b"
   },
   "outputs": [],
   "source": [
    "# Create a Random Forest Regressor\n",
    "rf_model = RandomForestRegressor(random_state=42)\n",
    "\n",
    "# Create GridSearchCV object\n",
    "grid_search = GridSearchCV(estimator=rf_model, param_grid=param_grid, cv=5, scoring='neg_mean_squared_error', n_jobs=-1)\n",
    "\n",
    "\n"
   ]
  },
  {
   "cell_type": "code",
   "execution_count": null,
   "metadata": {
    "colab": {
     "base_uri": "https://localhost:8080/"
    },
    "id": "KtURu7tnar1J",
    "outputId": "62fa1de1-c734-45c5-ee7d-7027677da933"
   },
   "outputs": [],
   "source": [
    "# Fit the grid search to the data\n",
    "grid_search.fit(x_train, y_train)\n",
    "\n",
    "# Get the best parameters\n",
    "best_params = grid_search.best_params_\n",
    "print(\"Best parameters:\", best_params)\n",
    "\n"
   ]
  },
  {
   "cell_type": "code",
   "execution_count": null,
   "metadata": {
    "colab": {
     "base_uri": "https://localhost:8080/"
    },
    "id": "ROoJ-xF7avGE",
    "outputId": "d395dc3b-1cca-4c17-c772-5b028aa879cd"
   },
   "outputs": [],
   "source": [
    "# Get the best score\n",
    "best_score = grid_search.best_score_\n",
    "print(\"Best score:\", best_score)\n",
    "\n",
    "# Train the model with the best parameters\n",
    "best_rf_model = RandomForestRegressor(**best_params, random_state=42)\n",
    "best_rf_model.fit(x_train, y_train)\n",
    "\n",
    "# Make predictions on the test data\n",
    "y_pred = best_rf_model.predict(x_test)\n",
    "\n",
    "# Evaluate the model\n",
    "rmse = mean_squared_error(y_test, y_pred, squared=False)\n",
    "print(\"RMSE:\", rmse)\n",
    "\n",
    "mae = mean_absolute_error(y_test, y_pred)\n",
    "print(\"MAE:\", mae)\n",
    "\n",
    "r2 = r2_score(y_test, y_pred)\n",
    "print(\"R-squared:\", r2)"
   ]
  },
  {
   "cell_type": "code",
   "execution_count": null,
   "metadata": {
    "id": "p6KU7a0_eJy_"
   },
   "outputs": [],
   "source": [
    "import pickle\n",
    "import sklearn"
   ]
  },
  {
   "cell_type": "code",
   "execution_count": null,
   "metadata": {
    "id": "D-DG-6xmcPDB"
   },
   "outputs": [],
   "source": [
    "with open (\"model.pkl\", \"wb\") as file:\n",
    "  pickle.dump(best_rf_model, file)"
   ]
  },
  {
   "cell_type": "code",
   "execution_count": null,
   "metadata": {
    "id": "YwG1LJY5eNWs"
   },
   "outputs": [],
   "source": []
  }
 ],
 "metadata": {
  "colab": {
   "provenance": []
  },
  "kernelspec": {
   "display_name": "Python 3 (ipykernel)",
   "language": "python",
   "name": "python3"
  },
  "language_info": {
   "codemirror_mode": {
    "name": "ipython",
    "version": 3
   },
   "file_extension": ".py",
   "mimetype": "text/x-python",
   "name": "python",
   "nbconvert_exporter": "python",
   "pygments_lexer": "ipython3",
   "version": "3.11.7"
  }
 },
 "nbformat": 4,
 "nbformat_minor": 4
}
